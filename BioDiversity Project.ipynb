{
 "cells": [
  {
   "cell_type": "markdown",
   "id": "d6a6aeca",
   "metadata": {},
   "source": [
    "# BioDiversity "
   ]
  },
  {
   "cell_type": "markdown",
   "id": "c1b2a2ad",
   "metadata": {},
   "source": [
    "## Intro"
   ]
  },
  {
   "cell_type": "markdown",
   "id": "bbc04ad2",
   "metadata": {},
   "source": [
    "The goal of this project is to analyze biodiversity data from the National Parks Service, particularly around various species observed in different national park locations. The data is inspired by real data, but is mostly fictional. The project will scope, analyze, prepare, plot data, and seek to explain the findings from the analysis.\n",
    "Here are a few questions that this project has sought to answer:\n",
    "\n",
    "- What is the distribution of conservation status for species?\n",
    "\n",
    "- Are certain types of species more likely to be endangered?\n",
    "\n",
    "- Which animal is most prevalent and what is their distribution amongst parks?\n"
   ]
  },
  {
   "cell_type": "markdown",
   "id": "dcc658c8",
   "metadata": {},
   "source": [
    "## Import libraries and load data"
   ]
  },
  {
   "cell_type": "code",
   "execution_count": 193,
   "id": "6ad7f133",
   "metadata": {},
   "outputs": [],
   "source": [
    "import pandas as pd\n",
    "import numpy as np\n",
    "\n",
    "from matplotlib import pyplot as plt\n",
    "import seaborn as sns"
   ]
  },
  {
   "cell_type": "code",
   "execution_count": 194,
   "id": "8d37af07",
   "metadata": {},
   "outputs": [],
   "source": [
    "species = pd.read_csv('species_info.csv')\n",
    "observations = pd.read_csv('observations.csv')"
   ]
  },
  {
   "cell_type": "markdown",
   "id": "cb8f00fa",
   "metadata": {},
   "source": [
    "## Examine the Data"
   ]
  },
  {
   "cell_type": "markdown",
   "id": "d168b307",
   "metadata": {},
   "source": [
    "### Species\n",
    "The species data frame contains information on the different species in the National Parks. The columns in the data set include:\n",
    "- **category** - The category of taxonomy for each species\n",
    "- **scientific_name** - The scientific name of each species\n",
    "- **common_names** - The common names of each species\n",
    "- **conservation_status** - The species conservation status\n",
    "v"
   ]
  },
  {
   "cell_type": "code",
   "execution_count": 195,
   "id": "9fb5abe6",
   "metadata": {},
   "outputs": [
    {
     "data": {
      "text/html": [
       "<div>\n",
       "<style scoped>\n",
       "    .dataframe tbody tr th:only-of-type {\n",
       "        vertical-align: middle;\n",
       "    }\n",
       "\n",
       "    .dataframe tbody tr th {\n",
       "        vertical-align: top;\n",
       "    }\n",
       "\n",
       "    .dataframe thead th {\n",
       "        text-align: right;\n",
       "    }\n",
       "</style>\n",
       "<table border=\"1\" class=\"dataframe\">\n",
       "  <thead>\n",
       "    <tr style=\"text-align: right;\">\n",
       "      <th></th>\n",
       "      <th>category</th>\n",
       "      <th>scientific_name</th>\n",
       "      <th>common_names</th>\n",
       "      <th>conservation_status</th>\n",
       "    </tr>\n",
       "  </thead>\n",
       "  <tbody>\n",
       "    <tr>\n",
       "      <th>0</th>\n",
       "      <td>Mammal</td>\n",
       "      <td>Clethrionomys gapperi gapperi</td>\n",
       "      <td>Gapper's Red-Backed Vole</td>\n",
       "      <td>NaN</td>\n",
       "    </tr>\n",
       "    <tr>\n",
       "      <th>1</th>\n",
       "      <td>Mammal</td>\n",
       "      <td>Bos bison</td>\n",
       "      <td>American Bison, Bison</td>\n",
       "      <td>NaN</td>\n",
       "    </tr>\n",
       "    <tr>\n",
       "      <th>2</th>\n",
       "      <td>Mammal</td>\n",
       "      <td>Bos taurus</td>\n",
       "      <td>Aurochs, Aurochs, Domestic Cattle (Feral), Dom...</td>\n",
       "      <td>NaN</td>\n",
       "    </tr>\n",
       "    <tr>\n",
       "      <th>3</th>\n",
       "      <td>Mammal</td>\n",
       "      <td>Ovis aries</td>\n",
       "      <td>Domestic Sheep, Mouflon, Red Sheep, Sheep (Feral)</td>\n",
       "      <td>NaN</td>\n",
       "    </tr>\n",
       "    <tr>\n",
       "      <th>4</th>\n",
       "      <td>Mammal</td>\n",
       "      <td>Cervus elaphus</td>\n",
       "      <td>Wapiti Or Elk</td>\n",
       "      <td>NaN</td>\n",
       "    </tr>\n",
       "  </tbody>\n",
       "</table>\n",
       "</div>"
      ],
      "text/plain": [
       "  category                scientific_name  \\\n",
       "0   Mammal  Clethrionomys gapperi gapperi   \n",
       "1   Mammal                      Bos bison   \n",
       "2   Mammal                     Bos taurus   \n",
       "3   Mammal                     Ovis aries   \n",
       "4   Mammal                 Cervus elaphus   \n",
       "\n",
       "                                        common_names conservation_status  \n",
       "0                           Gapper's Red-Backed Vole                 NaN  \n",
       "1                              American Bison, Bison                 NaN  \n",
       "2  Aurochs, Aurochs, Domestic Cattle (Feral), Dom...                 NaN  \n",
       "3  Domestic Sheep, Mouflon, Red Sheep, Sheep (Feral)                 NaN  \n",
       "4                                      Wapiti Or Elk                 NaN  "
      ]
     },
     "execution_count": 195,
     "metadata": {},
     "output_type": "execute_result"
    }
   ],
   "source": [
    "species.head()"
   ]
  },
  {
   "cell_type": "code",
   "execution_count": 196,
   "id": "5bb4f6f9",
   "metadata": {},
   "outputs": [
    {
     "name": "stdout",
     "output_type": "stream",
     "text": [
      "Species shape: (5824, 4)\n"
     ]
    }
   ],
   "source": [
    "print(f\"Species shape: {species.shape}\")"
   ]
  },
  {
   "cell_type": "markdown",
   "id": "883f9ad4",
   "metadata": {},
   "source": [
    "Species data frame has 5,824 rows."
   ]
  },
  {
   "cell_type": "code",
   "execution_count": 197,
   "id": "ee807d59",
   "metadata": {},
   "outputs": [
    {
     "name": "stdout",
     "output_type": "stream",
     "text": [
      "<class 'pandas.core.frame.DataFrame'>\n",
      "RangeIndex: 5824 entries, 0 to 5823\n",
      "Data columns (total 4 columns):\n",
      " #   Column               Non-Null Count  Dtype \n",
      "---  ------               --------------  ----- \n",
      " 0   category             5824 non-null   object\n",
      " 1   scientific_name      5824 non-null   object\n",
      " 2   common_names         5824 non-null   object\n",
      " 3   conservation_status  191 non-null    object\n",
      "dtypes: object(4)\n",
      "memory usage: 182.1+ KB\n"
     ]
    }
   ],
   "source": [
    "species.info()"
   ]
  },
  {
   "cell_type": "code",
   "execution_count": 198,
   "id": "2bfe327a",
   "metadata": {},
   "outputs": [],
   "source": [
    "species = species.fillna(value={'conservation_status':'No Intervention'})"
   ]
  },
  {
   "cell_type": "markdown",
   "id": "88748f45",
   "metadata": {},
   "source": [
    "Data frame species has around 97% missing values in conservation_status category. We can assume it is structuraly missing data and replace it with 'No Intervention' status.\n"
   ]
  },
  {
   "cell_type": "code",
   "execution_count": 199,
   "id": "c9d9099d",
   "metadata": {},
   "outputs": [
    {
     "data": {
      "text/plain": [
       "False    5824\n",
       "dtype: int64"
      ]
     },
     "execution_count": 199,
     "metadata": {},
     "output_type": "execute_result"
    }
   ],
   "source": [
    "species_duplicates = species.duplicated()\n",
    "species_duplicates.value_counts()"
   ]
  },
  {
   "cell_type": "markdown",
   "id": "6d0cc0b7",
   "metadata": {},
   "source": [
    "No duplicate values."
   ]
  },
  {
   "cell_type": "code",
   "execution_count": 200,
   "id": "f7de004e",
   "metadata": {},
   "outputs": [
    {
     "name": "stdout",
     "output_type": "stream",
     "text": [
      "Number of species:5541\n"
     ]
    }
   ],
   "source": [
    "print(f\"Number of species:{species.scientific_name.nunique()}\")"
   ]
  },
  {
   "cell_type": "code",
   "execution_count": 201,
   "id": "57f9052c",
   "metadata": {},
   "outputs": [
    {
     "name": "stdout",
     "output_type": "stream",
     "text": [
      "Categories of species:['Mammal' 'Bird' 'Reptile' 'Amphibian' 'Fish' 'Vascular Plant'\n",
      " 'Nonvascular Plant']\n"
     ]
    }
   ],
   "source": [
    "print(f\"Categories of species:{species.category.unique()}\")"
   ]
  },
  {
   "cell_type": "markdown",
   "id": "a6649c24",
   "metadata": {},
   "source": [
    "## Analysis"
   ]
  },
  {
   "cell_type": "code",
   "execution_count": 202,
   "id": "85bf6ac6",
   "metadata": {},
   "outputs": [
    {
     "data": {
      "image/png": "[encoded data removed]",
      "text/plain": [
       "<Figure size 1200x600 with 1 Axes>"
      ]
     },
     "metadata": {},
     "output_type": "display_data"
    }
   ],
   "source": [
    "category_species_count = species.groupby('category')[['scientific_name']].count()\n",
    "category_species_count.rename({'scientific_name': 'scientific_name_count'}, inplace= True, axis= 1)\n",
    "\n",
    "plt.subplots(figsize= (12, 6)) \n",
    "plt.ticklabel_format(style= 'plain', axis= 'y')\n",
    "sns.barplot(data= category_species_count, x= category_species_count.index, y= 'scientific_name_count', \n",
    "            order= category_species_count.sort_values('scientific_name_count', ascending= False).index)\n",
    "plt.title('Species Count per Category',fontsize=18)\n",
    "plt.xlabel('')\n",
    "plt.ylabel('Species Count', fontsize= 14)\n",
    "plt.xticks(fontsize= 12);\n",
    "plt.yticks(fontsize= 12);\n",
    "plt.savefig('Species Count per Category.png', dpi= 600)"
   ]
  },
  {
   "cell_type": "markdown",
   "id": "1e2d0b13",
   "metadata": {},
   "source": [
    "#### Summary Statistics"
   ]
  },
  {
   "cell_type": "code",
   "execution_count": 203,
   "id": "31eff0e6",
   "metadata": {},
   "outputs": [
    {
     "data": {
      "text/html": [
       "<div>\n",
       "<style scoped>\n",
       "    .dataframe tbody tr th:only-of-type {\n",
       "        vertical-align: middle;\n",
       "    }\n",
       "\n",
       "    .dataframe tbody tr th {\n",
       "        vertical-align: top;\n",
       "    }\n",
       "\n",
       "    .dataframe thead th {\n",
       "        text-align: right;\n",
       "    }\n",
       "</style>\n",
       "<table border=\"1\" class=\"dataframe\">\n",
       "  <thead>\n",
       "    <tr style=\"text-align: right;\">\n",
       "      <th></th>\n",
       "      <th>category</th>\n",
       "      <th>scientific_name</th>\n",
       "      <th>common_names</th>\n",
       "      <th>conservation_status</th>\n",
       "    </tr>\n",
       "  </thead>\n",
       "  <tbody>\n",
       "    <tr>\n",
       "      <th>count</th>\n",
       "      <td>5824</td>\n",
       "      <td>5824</td>\n",
       "      <td>5824</td>\n",
       "      <td>5824</td>\n",
       "    </tr>\n",
       "    <tr>\n",
       "      <th>unique</th>\n",
       "      <td>7</td>\n",
       "      <td>5541</td>\n",
       "      <td>5504</td>\n",
       "      <td>5</td>\n",
       "    </tr>\n",
       "    <tr>\n",
       "      <th>top</th>\n",
       "      <td>Vascular Plant</td>\n",
       "      <td>Castor canadensis</td>\n",
       "      <td>Brachythecium Moss</td>\n",
       "      <td>No Intervention</td>\n",
       "    </tr>\n",
       "    <tr>\n",
       "      <th>freq</th>\n",
       "      <td>4470</td>\n",
       "      <td>3</td>\n",
       "      <td>7</td>\n",
       "      <td>5633</td>\n",
       "    </tr>\n",
       "  </tbody>\n",
       "</table>\n",
       "</div>"
      ],
      "text/plain": [
       "              category    scientific_name        common_names  \\\n",
       "count             5824               5824                5824   \n",
       "unique               7               5541                5504   \n",
       "top     Vascular Plant  Castor canadensis  Brachythecium Moss   \n",
       "freq              4470                  3                   7   \n",
       "\n",
       "       conservation_status  \n",
       "count                 5824  \n",
       "unique                   5  \n",
       "top        No Intervention  \n",
       "freq                  5633  "
      ]
     },
     "execution_count": 203,
     "metadata": {},
     "output_type": "execute_result"
    }
   ],
   "source": [
    "species.describe()"
   ]
  },
  {
   "cell_type": "markdown",
   "id": "8146a516",
   "metadata": {},
   "source": [
    "### Observations\n",
    "The observations data frame contains information from recorded sightings of different species throughout the national parks in the past 7 days. The columns included are:\n",
    "\n",
    "- **scientific_name** - The scientific name of each species\n",
    "- **park_name** - The name of the national park\n",
    "- **observations** - The number of observations in the past 7 days"
   ]
  },
  {
   "cell_type": "code",
   "execution_count": 205,
   "id": "1d31721a",
   "metadata": {},
   "outputs": [
    {
     "data": {
      "text/html": [
       "<div>\n",
       "<style scoped>\n",
       "    .dataframe tbody tr th:only-of-type {\n",
       "        vertical-align: middle;\n",
       "    }\n",
       "\n",
       "    .dataframe tbody tr th {\n",
       "        vertical-align: top;\n",
       "    }\n",
       "\n",
       "    .dataframe thead th {\n",
       "        text-align: right;\n",
       "    }\n",
       "</style>\n",
       "<table border=\"1\" class=\"dataframe\">\n",
       "  <thead>\n",
       "    <tr style=\"text-align: right;\">\n",
       "      <th></th>\n",
       "      <th>scientific_name</th>\n",
       "      <th>park_name</th>\n",
       "      <th>observations</th>\n",
       "    </tr>\n",
       "  </thead>\n",
       "  <tbody>\n",
       "    <tr>\n",
       "      <th>0</th>\n",
       "      <td>Vicia benghalensis</td>\n",
       "      <td>Great Smoky Mountains National Park</td>\n",
       "      <td>68</td>\n",
       "    </tr>\n",
       "    <tr>\n",
       "      <th>1</th>\n",
       "      <td>Neovison vison</td>\n",
       "      <td>Great Smoky Mountains National Park</td>\n",
       "      <td>77</td>\n",
       "    </tr>\n",
       "    <tr>\n",
       "      <th>2</th>\n",
       "      <td>Prunus subcordata</td>\n",
       "      <td>Yosemite National Park</td>\n",
       "      <td>138</td>\n",
       "    </tr>\n",
       "    <tr>\n",
       "      <th>3</th>\n",
       "      <td>Abutilon theophrasti</td>\n",
       "      <td>Bryce National Park</td>\n",
       "      <td>84</td>\n",
       "    </tr>\n",
       "    <tr>\n",
       "      <th>4</th>\n",
       "      <td>Githopsis specularioides</td>\n",
       "      <td>Great Smoky Mountains National Park</td>\n",
       "      <td>85</td>\n",
       "    </tr>\n",
       "  </tbody>\n",
       "</table>\n",
       "</div>"
      ],
      "text/plain": [
       "            scientific_name                            park_name  observations\n",
       "0        Vicia benghalensis  Great Smoky Mountains National Park            68\n",
       "1            Neovison vison  Great Smoky Mountains National Park            77\n",
       "2         Prunus subcordata               Yosemite National Park           138\n",
       "3      Abutilon theophrasti                  Bryce National Park            84\n",
       "4  Githopsis specularioides  Great Smoky Mountains National Park            85"
      ]
     },
     "execution_count": 205,
     "metadata": {},
     "output_type": "execute_result"
    }
   ],
   "source": [
    "observations.head()"
   ]
  },
  {
   "cell_type": "code",
   "execution_count": 206,
   "id": "d2647dc7",
   "metadata": {},
   "outputs": [
    {
     "name": "stdout",
     "output_type": "stream",
     "text": [
      "Observations shape: (23296, 3)\n"
     ]
    }
   ],
   "source": [
    "print(f\"Observations shape: {observations.shape}\")"
   ]
  },
  {
   "cell_type": "markdown",
   "id": "fb5fbef7",
   "metadata": {},
   "source": [
    "Observations has 23,296 rows and 3 columns."
   ]
  },
  {
   "cell_type": "code",
   "execution_count": 207,
   "id": "3ba4ae0d",
   "metadata": {},
   "outputs": [
    {
     "name": "stdout",
     "output_type": "stream",
     "text": [
      "<class 'pandas.core.frame.DataFrame'>\n",
      "RangeIndex: 23296 entries, 0 to 23295\n",
      "Data columns (total 3 columns):\n",
      " #   Column           Non-Null Count  Dtype \n",
      "---  ------           --------------  ----- \n",
      " 0   scientific_name  23296 non-null  object\n",
      " 1   park_name        23296 non-null  object\n",
      " 2   observations     23296 non-null  int64 \n",
      "dtypes: int64(1), object(2)\n",
      "memory usage: 546.1+ KB\n"
     ]
    }
   ],
   "source": [
    "observations.info()"
   ]
  },
  {
   "cell_type": "markdown",
   "id": "e7f63f3d",
   "metadata": {},
   "source": [
    "No missing values."
   ]
  },
  {
   "cell_type": "code",
   "execution_count": 208,
   "id": "f39d04ab",
   "metadata": {},
   "outputs": [
    {
     "data": {
      "text/plain": [
       "False    23281\n",
       "True        15\n",
       "dtype: int64"
      ]
     },
     "execution_count": 208,
     "metadata": {},
     "output_type": "execute_result"
    }
   ],
   "source": [
    "observations_duplicates = observations.duplicated()\n",
    "observations_duplicates.value_counts()"
   ]
  },
  {
   "cell_type": "code",
   "execution_count": 209,
   "id": "ca9103a3",
   "metadata": {},
   "outputs": [],
   "source": [
    "observations = observations.drop_duplicates()"
   ]
  },
  {
   "cell_type": "markdown",
   "id": "bf3751d8",
   "metadata": {},
   "source": [
    "15 duplicate values removed."
   ]
  },
  {
   "cell_type": "code",
   "execution_count": 210,
   "id": "dda94135",
   "metadata": {},
   "outputs": [
    {
     "name": "stdout",
     "output_type": "stream",
     "text": [
      "Name of the parks:['Great Smoky Mountains National Park' 'Yosemite National Park'\n",
      " 'Bryce National Park' 'Yellowstone National Park']\n"
     ]
    }
   ],
   "source": [
    "print(f\"Name of the parks:{observations.park_name.unique()}\")"
   ]
  },
  {
   "cell_type": "code",
   "execution_count": 211,
   "id": "754604f1",
   "metadata": {},
   "outputs": [
    {
     "name": "stdout",
     "output_type": "stream",
     "text": [
      "Number of species:5541\n"
     ]
    }
   ],
   "source": [
    "print(f\"Number of species:{observations.scientific_name.nunique()}\")"
   ]
  },
  {
   "cell_type": "markdown",
   "id": "e8fb46b1",
   "metadata": {},
   "source": [
    "## Analysis"
   ]
  },
  {
   "cell_type": "code",
   "execution_count": 212,
   "id": "a2cd391d",
   "metadata": {},
   "outputs": [],
   "source": [
    "total_observations_by_park = observations.groupby('park_name')['observations'].sum().reset_index().sort_values(by='observations', ascending=False)"
   ]
  },
  {
   "cell_type": "code",
   "execution_count": 213,
   "id": "29f08c69",
   "metadata": {},
   "outputs": [
    {
     "data": {
      "image/png": "[encoded data removed]",
      "text/plain": [
       "<Figure size 1200x800 with 1 Axes>"
      ]
     },
     "metadata": {},
     "output_type": "display_data"
    }
   ],
   "source": [
    "plt.figure(figsize=(12, 8))\n",
    "sns.barplot(data=total_observations_by_park, x='park_name', y='observations')\n",
    "plt.title('Total Observations by Park')\n",
    "plt.xlabel('Park Name')\n",
    "plt.ylabel('Number of Observations')\n",
    "plt.xticks(rotation=45)\n",
    "plt.show()"
   ]
  },
  {
   "cell_type": "code",
   "execution_count": 214,
   "id": "25df84b7",
   "metadata": {},
   "outputs": [],
   "source": [
    "park_sizes = {\n",
    "    'park_name': [\n",
    "        'Yellowstone National Park', \n",
    "        'Yosemite National Park', \n",
    "        'Great Smoky Mountains National Park', \n",
    "        'Bryce Canyon National Park'\n",
    "    ],\n",
    "    'size_in_acres': [\n",
    "        2219791, \n",
    "        761747, \n",
    "        522427, \n",
    "        35835\n",
    "    ]\n",
    "}"
   ]
  },
  {
   "cell_type": "code",
   "execution_count": 215,
   "id": "d88e2edc",
   "metadata": {},
   "outputs": [],
   "source": [
    "park_sizes_df = pd.DataFrame(park_sizes)"
   ]
  },
  {
   "cell_type": "code",
   "execution_count": 216,
   "id": "92b49561",
   "metadata": {},
   "outputs": [
    {
     "data": {
      "image/png": "[encoded data removed]",
      "text/plain": [
       "<Figure size 1200x800 with 1 Axes>"
      ]
     },
     "metadata": {},
     "output_type": "display_data"
    }
   ],
   "source": [
    "plt.figure(figsize=(12, 8))\n",
    "sns.barplot(data=park_sizes_df, x='park_name', y='size_in_acres')\n",
    "plt.title('Size of Each Park')\n",
    "plt.xlabel('Park Name')\n",
    "plt.ylabel('Size in Acres')\n",
    "plt.xticks(rotation=45)\n",
    "plt.show()"
   ]
  },
  {
   "cell_type": "markdown",
   "id": "84ebd61b",
   "metadata": {},
   "source": [
    "#### Summary Statistics"
   ]
  },
  {
   "cell_type": "code",
   "execution_count": 217,
   "id": "60caacb1",
   "metadata": {},
   "outputs": [
    {
     "data": {
      "text/html": [
       "<div>\n",
       "<style scoped>\n",
       "    .dataframe tbody tr th:only-of-type {\n",
       "        vertical-align: middle;\n",
       "    }\n",
       "\n",
       "    .dataframe tbody tr th {\n",
       "        vertical-align: top;\n",
       "    }\n",
       "\n",
       "    .dataframe thead th {\n",
       "        text-align: right;\n",
       "    }\n",
       "</style>\n",
       "<table border=\"1\" class=\"dataframe\">\n",
       "  <thead>\n",
       "    <tr style=\"text-align: right;\">\n",
       "      <th></th>\n",
       "      <th>observations</th>\n",
       "    </tr>\n",
       "  </thead>\n",
       "  <tbody>\n",
       "    <tr>\n",
       "      <th>count</th>\n",
       "      <td>23281.000000</td>\n",
       "    </tr>\n",
       "    <tr>\n",
       "      <th>mean</th>\n",
       "      <td>142.280357</td>\n",
       "    </tr>\n",
       "    <tr>\n",
       "      <th>std</th>\n",
       "      <td>69.885439</td>\n",
       "    </tr>\n",
       "    <tr>\n",
       "      <th>min</th>\n",
       "      <td>9.000000</td>\n",
       "    </tr>\n",
       "    <tr>\n",
       "      <th>25%</th>\n",
       "      <td>86.000000</td>\n",
       "    </tr>\n",
       "    <tr>\n",
       "      <th>50%</th>\n",
       "      <td>124.000000</td>\n",
       "    </tr>\n",
       "    <tr>\n",
       "      <th>75%</th>\n",
       "      <td>195.000000</td>\n",
       "    </tr>\n",
       "    <tr>\n",
       "      <th>max</th>\n",
       "      <td>321.000000</td>\n",
       "    </tr>\n",
       "  </tbody>\n",
       "</table>\n",
       "</div>"
      ],
      "text/plain": [
       "       observations\n",
       "count  23281.000000\n",
       "mean     142.280357\n",
       "std       69.885439\n",
       "min        9.000000\n",
       "25%       86.000000\n",
       "50%      124.000000\n",
       "75%      195.000000\n",
       "max      321.000000"
      ]
     },
     "execution_count": 217,
     "metadata": {},
     "output_type": "execute_result"
    }
   ],
   "source": [
    "observations.describe()"
   ]
  },
  {
   "cell_type": "markdown",
   "id": "60ee2c90",
   "metadata": {},
   "source": [
    "## Questions"
   ]
  },
  {
   "cell_type": "markdown",
   "id": "ebe73fad",
   "metadata": {},
   "source": [
    "### What is the distribution of conservation status for species?"
   ]
  },
  {
   "cell_type": "code",
   "execution_count": 219,
   "id": "bec5c493",
   "metadata": {},
   "outputs": [
    {
     "name": "stdout",
     "output_type": "stream",
     "text": [
      "Unique conservation statuses:['No Intervention' 'Species of Concern' 'Endangered' 'Threatened'\n",
      " 'In Recovery']\n"
     ]
    }
   ],
   "source": [
    "print(f\"Unique conservation statuses:{species.conservation_status.unique()}\")"
   ]
  },
  {
   "cell_type": "markdown",
   "id": "14e76653",
   "metadata": {},
   "source": [
    "Missing values replaced with 'No Intervention' status which is excluded from the further analys."
   ]
  },
  {
   "cell_type": "code",
   "execution_count": 220,
   "id": "db604314",
   "metadata": {},
   "outputs": [],
   "source": [
    "conservationCategory = species[species.conservation_status != \"No Intervention\"]\\\n",
    "    .groupby([\"conservation_status\", \"category\"])['scientific_name']\\\n",
    "    .count()\\\n",
    "    .unstack()"
   ]
  },
  {
   "cell_type": "code",
   "execution_count": 221,
   "id": "100e8ac1",
   "metadata": {},
   "outputs": [
    {
     "data": {
      "image/png": "[encoded data removed]",
      "text/plain": [
       "<Figure size 1000x600 with 1 Axes>"
      ]
     },
     "metadata": {},
     "output_type": "display_data"
    }
   ],
   "source": [
    "ax = conservationCategory.plot(kind = 'bar', figsize=(10,6), \n",
    "                               stacked=True)\n",
    "ax.set_xlabel(\"Conservation Status\")\n",
    "ax.set_ylabel(\"Number of Species\");\n"
   ]
  },
  {
   "cell_type": "markdown",
   "id": "2ee17493",
   "metadata": {},
   "source": [
    "\"Species of Concern\" is the largest category, followed by \"Endangered\", \"Threatened\", and \"In Recovery\"."
   ]
  },
  {
   "cell_type": "markdown",
   "id": "e5bbe46a",
   "metadata": {},
   "source": [
    "### Are certain types of species more likely to be endangered?"
   ]
  },
  {
   "cell_type": "markdown",
   "id": "e1d0006e",
   "metadata": {},
   "source": [
    "In order to answer this question we create a new column 'is_endangered' and convert the boolean values to integers.\n",
    "The data is grouped by category to calculate the number of total species and the number of endangered species. The  dataframes are merged and the proportion of endangered species is then computed for each category.\n",
    "Finally, the results are visualized using a bar plot."
   ]
  },
  {
   "cell_type": "code",
   "execution_count": 222,
   "id": "35698703",
   "metadata": {},
   "outputs": [],
   "source": [
    "endangered_species = species.groupby('conservation_status')['category'].unique()"
   ]
  },
  {
   "cell_type": "code",
   "execution_count": 223,
   "id": "db110b64",
   "metadata": {},
   "outputs": [
    {
     "data": {
      "text/plain": [
       "conservation_status\n",
       "Endangered              [Mammal, Bird, Fish, Vascular Plant, Amphibian]\n",
       "In Recovery                                              [Bird, Mammal]\n",
       "No Intervention       [Mammal, Bird, Reptile, Amphibian, Fish, Vascu...\n",
       "Species of Concern    [Mammal, Bird, Reptile, Amphibian, Fish, Vascu...\n",
       "Threatened                    [Mammal, Fish, Vascular Plant, Amphibian]\n",
       "Name: category, dtype: object"
      ]
     },
     "execution_count": 223,
     "metadata": {},
     "output_type": "execute_result"
    }
   ],
   "source": [
    "endangered_species"
   ]
  },
  {
   "cell_type": "code",
   "execution_count": 224,
   "id": "76985de0",
   "metadata": {},
   "outputs": [],
   "source": [
    "species['is_endangered'] = species['conservation_status'] == 'Endangered'"
   ]
  },
  {
   "cell_type": "code",
   "execution_count": 225,
   "id": "a2f51a98",
   "metadata": {},
   "outputs": [],
   "source": [
    "species['is_endangered'] = species['is_endangered'].astype(int)"
   ]
  },
  {
   "cell_type": "code",
   "execution_count": 226,
   "id": "d93282c1",
   "metadata": {},
   "outputs": [],
   "source": [
    "total_species = species.groupby('category')['scientific_name'].nunique().reset_index()"
   ]
  },
  {
   "cell_type": "code",
   "execution_count": 227,
   "id": "157c52b6",
   "metadata": {},
   "outputs": [
    {
     "data": {
      "text/html": [
       "<div>\n",
       "<style scoped>\n",
       "    .dataframe tbody tr th:only-of-type {\n",
       "        vertical-align: middle;\n",
       "    }\n",
       "\n",
       "    .dataframe tbody tr th {\n",
       "        vertical-align: top;\n",
       "    }\n",
       "\n",
       "    .dataframe thead th {\n",
       "        text-align: right;\n",
       "    }\n",
       "</style>\n",
       "<table border=\"1\" class=\"dataframe\">\n",
       "  <thead>\n",
       "    <tr style=\"text-align: right;\">\n",
       "      <th></th>\n",
       "      <th>category</th>\n",
       "      <th>scientific_name</th>\n",
       "    </tr>\n",
       "  </thead>\n",
       "  <tbody>\n",
       "    <tr>\n",
       "      <th>0</th>\n",
       "      <td>Amphibian</td>\n",
       "      <td>79</td>\n",
       "    </tr>\n",
       "    <tr>\n",
       "      <th>1</th>\n",
       "      <td>Bird</td>\n",
       "      <td>488</td>\n",
       "    </tr>\n",
       "    <tr>\n",
       "      <th>2</th>\n",
       "      <td>Fish</td>\n",
       "      <td>125</td>\n",
       "    </tr>\n",
       "    <tr>\n",
       "      <th>3</th>\n",
       "      <td>Mammal</td>\n",
       "      <td>176</td>\n",
       "    </tr>\n",
       "    <tr>\n",
       "      <th>4</th>\n",
       "      <td>Nonvascular Plant</td>\n",
       "      <td>333</td>\n",
       "    </tr>\n",
       "    <tr>\n",
       "      <th>5</th>\n",
       "      <td>Reptile</td>\n",
       "      <td>78</td>\n",
       "    </tr>\n",
       "    <tr>\n",
       "      <th>6</th>\n",
       "      <td>Vascular Plant</td>\n",
       "      <td>4262</td>\n",
       "    </tr>\n",
       "  </tbody>\n",
       "</table>\n",
       "</div>"
      ],
      "text/plain": [
       "            category  scientific_name\n",
       "0          Amphibian               79\n",
       "1               Bird              488\n",
       "2               Fish              125\n",
       "3             Mammal              176\n",
       "4  Nonvascular Plant              333\n",
       "5            Reptile               78\n",
       "6     Vascular Plant             4262"
      ]
     },
     "execution_count": 227,
     "metadata": {},
     "output_type": "execute_result"
    }
   ],
   "source": [
    "total_species"
   ]
  },
  {
   "cell_type": "code",
   "execution_count": 228,
   "id": "872613fe",
   "metadata": {},
   "outputs": [],
   "source": [
    "endangered_species = species.groupby('category')['is_endangered'].sum().reset_index()"
   ]
  },
  {
   "cell_type": "code",
   "execution_count": 229,
   "id": "fecb1526",
   "metadata": {},
   "outputs": [
    {
     "data": {
      "text/html": [
       "<div>\n",
       "<style scoped>\n",
       "    .dataframe tbody tr th:only-of-type {\n",
       "        vertical-align: middle;\n",
       "    }\n",
       "\n",
       "    .dataframe tbody tr th {\n",
       "        vertical-align: top;\n",
       "    }\n",
       "\n",
       "    .dataframe thead th {\n",
       "        text-align: right;\n",
       "    }\n",
       "</style>\n",
       "<table border=\"1\" class=\"dataframe\">\n",
       "  <thead>\n",
       "    <tr style=\"text-align: right;\">\n",
       "      <th></th>\n",
       "      <th>category</th>\n",
       "      <th>is_endangered</th>\n",
       "    </tr>\n",
       "  </thead>\n",
       "  <tbody>\n",
       "    <tr>\n",
       "      <th>0</th>\n",
       "      <td>Amphibian</td>\n",
       "      <td>1</td>\n",
       "    </tr>\n",
       "    <tr>\n",
       "      <th>1</th>\n",
       "      <td>Bird</td>\n",
       "      <td>4</td>\n",
       "    </tr>\n",
       "    <tr>\n",
       "      <th>2</th>\n",
       "      <td>Fish</td>\n",
       "      <td>3</td>\n",
       "    </tr>\n",
       "    <tr>\n",
       "      <th>3</th>\n",
       "      <td>Mammal</td>\n",
       "      <td>7</td>\n",
       "    </tr>\n",
       "    <tr>\n",
       "      <th>4</th>\n",
       "      <td>Nonvascular Plant</td>\n",
       "      <td>0</td>\n",
       "    </tr>\n",
       "    <tr>\n",
       "      <th>5</th>\n",
       "      <td>Reptile</td>\n",
       "      <td>0</td>\n",
       "    </tr>\n",
       "    <tr>\n",
       "      <th>6</th>\n",
       "      <td>Vascular Plant</td>\n",
       "      <td>1</td>\n",
       "    </tr>\n",
       "  </tbody>\n",
       "</table>\n",
       "</div>"
      ],
      "text/plain": [
       "            category  is_endangered\n",
       "0          Amphibian              1\n",
       "1               Bird              4\n",
       "2               Fish              3\n",
       "3             Mammal              7\n",
       "4  Nonvascular Plant              0\n",
       "5            Reptile              0\n",
       "6     Vascular Plant              1"
      ]
     },
     "execution_count": 229,
     "metadata": {},
     "output_type": "execute_result"
    }
   ],
   "source": [
    "endangered_species"
   ]
  },
  {
   "cell_type": "code",
   "execution_count": 230,
   "id": "babbb886",
   "metadata": {},
   "outputs": [],
   "source": [
    "endangered_df = pd.merge(total_species, endangered_species, on='category')"
   ]
  },
  {
   "cell_type": "code",
   "execution_count": 233,
   "id": "2f175344",
   "metadata": {},
   "outputs": [],
   "source": [
    "endangered_df.columns = ['category', 'species_count', 'is_endangered_count']"
   ]
  },
  {
   "cell_type": "markdown",
   "id": "2e76a920",
   "metadata": {},
   "source": [
    "The columns are renamed for clarity."
   ]
  },
  {
   "cell_type": "code",
   "execution_count": 234,
   "id": "7af735f4",
   "metadata": {},
   "outputs": [
    {
     "data": {
      "text/html": [
       "<div>\n",
       "<style scoped>\n",
       "    .dataframe tbody tr th:only-of-type {\n",
       "        vertical-align: middle;\n",
       "    }\n",
       "\n",
       "    .dataframe tbody tr th {\n",
       "        vertical-align: top;\n",
       "    }\n",
       "\n",
       "    .dataframe thead th {\n",
       "        text-align: right;\n",
       "    }\n",
       "</style>\n",
       "<table border=\"1\" class=\"dataframe\">\n",
       "  <thead>\n",
       "    <tr style=\"text-align: right;\">\n",
       "      <th></th>\n",
       "      <th>category</th>\n",
       "      <th>species_count</th>\n",
       "      <th>is_endangered_count</th>\n",
       "    </tr>\n",
       "  </thead>\n",
       "  <tbody>\n",
       "    <tr>\n",
       "      <th>0</th>\n",
       "      <td>Amphibian</td>\n",
       "      <td>79</td>\n",
       "      <td>1</td>\n",
       "    </tr>\n",
       "    <tr>\n",
       "      <th>1</th>\n",
       "      <td>Bird</td>\n",
       "      <td>488</td>\n",
       "      <td>4</td>\n",
       "    </tr>\n",
       "    <tr>\n",
       "      <th>2</th>\n",
       "      <td>Fish</td>\n",
       "      <td>125</td>\n",
       "      <td>3</td>\n",
       "    </tr>\n",
       "    <tr>\n",
       "      <th>3</th>\n",
       "      <td>Mammal</td>\n",
       "      <td>176</td>\n",
       "      <td>7</td>\n",
       "    </tr>\n",
       "    <tr>\n",
       "      <th>4</th>\n",
       "      <td>Nonvascular Plant</td>\n",
       "      <td>333</td>\n",
       "      <td>0</td>\n",
       "    </tr>\n",
       "    <tr>\n",
       "      <th>5</th>\n",
       "      <td>Reptile</td>\n",
       "      <td>78</td>\n",
       "      <td>0</td>\n",
       "    </tr>\n",
       "    <tr>\n",
       "      <th>6</th>\n",
       "      <td>Vascular Plant</td>\n",
       "      <td>4262</td>\n",
       "      <td>1</td>\n",
       "    </tr>\n",
       "  </tbody>\n",
       "</table>\n",
       "</div>"
      ],
      "text/plain": [
       "            category  species_count  is_endangered_count\n",
       "0          Amphibian             79                    1\n",
       "1               Bird            488                    4\n",
       "2               Fish            125                    3\n",
       "3             Mammal            176                    7\n",
       "4  Nonvascular Plant            333                    0\n",
       "5            Reptile             78                    0\n",
       "6     Vascular Plant           4262                    1"
      ]
     },
     "execution_count": 234,
     "metadata": {},
     "output_type": "execute_result"
    }
   ],
   "source": [
    "endangered_df"
   ]
  },
  {
   "cell_type": "code",
   "execution_count": 235,
   "id": "cac0f26d",
   "metadata": {},
   "outputs": [],
   "source": [
    "endangered_df['prop_endangered'] = endangered_df['is_endangered_count'] / endangered_df['species_count']"
   ]
  },
  {
   "cell_type": "code",
   "execution_count": 236,
   "id": "451f5d90",
   "metadata": {},
   "outputs": [
    {
     "data": {
      "text/plain": [
       "0    0.012658\n",
       "1    0.008197\n",
       "2    0.024000\n",
       "3    0.039773\n",
       "4    0.000000\n",
       "5    0.000000\n",
       "6    0.000235\n",
       "Name: prop_endangered, dtype: float64"
      ]
     },
     "execution_count": 236,
     "metadata": {},
     "output_type": "execute_result"
    }
   ],
   "source": [
    "endangered_df['prop_endangered']"
   ]
  },
  {
   "cell_type": "code",
   "execution_count": 237,
   "id": "cf1550a3",
   "metadata": {},
   "outputs": [
    {
     "data": {
      "image/png": "[encoded data removed]",
      "text/plain": [
       "<Figure size 1200x800 with 1 Axes>"
      ]
     },
     "metadata": {},
     "output_type": "display_data"
    }
   ],
   "source": [
    "plt.figure(figsize=(12, 8))\n",
    "sns.barplot(data=endangered_df, x='category', y='prop_endangered')\n",
    "plt.title('Proportion of Endangered Species by Category')\n",
    "plt.xlabel('Category')\n",
    "plt.ylabel('Proportion of Endangered Species')\n",
    "plt.xticks(rotation=45)\n",
    "plt.show()"
   ]
  },
  {
   "cell_type": "markdown",
   "id": "1abf968a",
   "metadata": {},
   "source": [
    "The 'Mammal' and 'Fish' categories have the highest proportion of endangered species."
   ]
  },
  {
   "cell_type": "markdown",
   "id": "e3bf2b5e",
   "metadata": {},
   "source": [
    "### Which animal is most prevalent and what is their distribution amongst parks?"
   ]
  },
  {
   "cell_type": "markdown",
   "id": "d341ae89",
   "metadata": {},
   "source": [
    "To find out which animal is the most prevalent, we calculate total observations for each species and sort the species by total observations in descending order. Firstly we group the merged data frame excluding categories that don't belong to animals' world."
   ]
  },
  {
   "cell_type": "code",
   "execution_count": 137,
   "id": "4791fd8e",
   "metadata": {},
   "outputs": [],
   "source": [
    "filtered_df = merged_df[~merged_df['category'].isin(['Vascular Plant', 'Nonvascular Plant'])]"
   ]
  },
  {
   "cell_type": "code",
   "execution_count": 152,
   "id": "2dbf4a9a",
   "metadata": {},
   "outputs": [
    {
     "data": {
      "text/html": [
       "<div>\n",
       "<style scoped>\n",
       "    .dataframe tbody tr th:only-of-type {\n",
       "        vertical-align: middle;\n",
       "    }\n",
       "\n",
       "    .dataframe tbody tr th {\n",
       "        vertical-align: top;\n",
       "    }\n",
       "\n",
       "    .dataframe thead th {\n",
       "        text-align: right;\n",
       "    }\n",
       "</style>\n",
       "<table border=\"1\" class=\"dataframe\">\n",
       "  <thead>\n",
       "    <tr style=\"text-align: right;\">\n",
       "      <th></th>\n",
       "      <th>scientific_name</th>\n",
       "      <th>park_name</th>\n",
       "      <th>observations</th>\n",
       "      <th>category</th>\n",
       "      <th>common_names</th>\n",
       "      <th>conservation_status</th>\n",
       "    </tr>\n",
       "  </thead>\n",
       "  <tbody>\n",
       "    <tr>\n",
       "      <th>4</th>\n",
       "      <td>Neovison vison</td>\n",
       "      <td>Great Smoky Mountains National Park</td>\n",
       "      <td>77</td>\n",
       "      <td>Mammal</td>\n",
       "      <td>American Mink</td>\n",
       "      <td>No Intervention</td>\n",
       "    </tr>\n",
       "    <tr>\n",
       "      <th>5</th>\n",
       "      <td>Neovison vison</td>\n",
       "      <td>Yellowstone National Park</td>\n",
       "      <td>218</td>\n",
       "      <td>Mammal</td>\n",
       "      <td>American Mink</td>\n",
       "      <td>No Intervention</td>\n",
       "    </tr>\n",
       "    <tr>\n",
       "      <th>6</th>\n",
       "      <td>Neovison vison</td>\n",
       "      <td>Bryce National Park</td>\n",
       "      <td>91</td>\n",
       "      <td>Mammal</td>\n",
       "      <td>American Mink</td>\n",
       "      <td>No Intervention</td>\n",
       "    </tr>\n",
       "    <tr>\n",
       "      <th>7</th>\n",
       "      <td>Neovison vison</td>\n",
       "      <td>Yosemite National Park</td>\n",
       "      <td>200</td>\n",
       "      <td>Mammal</td>\n",
       "      <td>American Mink</td>\n",
       "      <td>No Intervention</td>\n",
       "    </tr>\n",
       "    <tr>\n",
       "      <th>24</th>\n",
       "      <td>Spizella pusilla</td>\n",
       "      <td>Yellowstone National Park</td>\n",
       "      <td>228</td>\n",
       "      <td>Bird</td>\n",
       "      <td>Field Sparrow</td>\n",
       "      <td>No Intervention</td>\n",
       "    </tr>\n",
       "  </tbody>\n",
       "</table>\n",
       "</div>"
      ],
      "text/plain": [
       "     scientific_name                            park_name  observations  \\\n",
       "4     Neovison vison  Great Smoky Mountains National Park            77   \n",
       "5     Neovison vison            Yellowstone National Park           218   \n",
       "6     Neovison vison                  Bryce National Park            91   \n",
       "7     Neovison vison               Yosemite National Park           200   \n",
       "24  Spizella pusilla            Yellowstone National Park           228   \n",
       "\n",
       "   category   common_names conservation_status  \n",
       "4    Mammal  American Mink     No Intervention  \n",
       "5    Mammal  American Mink     No Intervention  \n",
       "6    Mammal  American Mink     No Intervention  \n",
       "7    Mammal  American Mink     No Intervention  \n",
       "24     Bird  Field Sparrow     No Intervention  "
      ]
     },
     "execution_count": 152,
     "metadata": {},
     "output_type": "execute_result"
    }
   ],
   "source": [
    "filtered_df.head()"
   ]
  },
  {
   "cell_type": "code",
   "execution_count": 139,
   "id": "f793b710",
   "metadata": {},
   "outputs": [
    {
     "name": "stdout",
     "output_type": "stream",
     "text": [
      "Categories of species:['Mammal' 'Bird' 'Amphibian' 'Reptile' 'Fish']\n"
     ]
    }
   ],
   "source": [
    "print(f\"Categories of species:{filtered_df.category.unique()}\")"
   ]
  },
  {
   "cell_type": "code",
   "execution_count": 140,
   "id": "5bdc6e3b",
   "metadata": {},
   "outputs": [],
   "source": [
    "total_observations = filtered_df.groupby('scientific_name')['observations'].sum().reset_index()"
   ]
  },
  {
   "cell_type": "code",
   "execution_count": 154,
   "id": "3e82f9fd",
   "metadata": {},
   "outputs": [],
   "source": [
    "total_observations = total_observations.sort_values(by='observations', ascending=False)"
   ]
  },
  {
   "cell_type": "code",
   "execution_count": 142,
   "id": "33bb71b4",
   "metadata": {},
   "outputs": [],
   "source": [
    "total_observations = total_observations.sort_values(by='observations', ascending=False)"
   ]
  },
  {
   "cell_type": "code",
   "execution_count": 155,
   "id": "4fac9719",
   "metadata": {},
   "outputs": [
    {
     "data": {
      "text/html": [
       "<div>\n",
       "<style scoped>\n",
       "    .dataframe tbody tr th:only-of-type {\n",
       "        vertical-align: middle;\n",
       "    }\n",
       "\n",
       "    .dataframe tbody tr th {\n",
       "        vertical-align: top;\n",
       "    }\n",
       "\n",
       "    .dataframe thead th {\n",
       "        text-align: right;\n",
       "    }\n",
       "</style>\n",
       "<table border=\"1\" class=\"dataframe\">\n",
       "  <thead>\n",
       "    <tr style=\"text-align: right;\">\n",
       "      <th></th>\n",
       "      <th>scientific_name</th>\n",
       "      <th>observations</th>\n",
       "    </tr>\n",
       "  </thead>\n",
       "  <tbody>\n",
       "    <tr>\n",
       "      <th>144</th>\n",
       "      <td>Castor canadensis</td>\n",
       "      <td>5175</td>\n",
       "    </tr>\n",
       "    <tr>\n",
       "      <th>707</th>\n",
       "      <td>Puma concolor</td>\n",
       "      <td>5133</td>\n",
       "    </tr>\n",
       "    <tr>\n",
       "      <th>687</th>\n",
       "      <td>Procyon lotor</td>\n",
       "      <td>5076</td>\n",
       "    </tr>\n",
       "    <tr>\n",
       "      <th>201</th>\n",
       "      <td>Columba livia</td>\n",
       "      <td>4959</td>\n",
       "    </tr>\n",
       "    <tr>\n",
       "      <th>520</th>\n",
       "      <td>Myotis lucifugus</td>\n",
       "      <td>4641</td>\n",
       "    </tr>\n",
       "  </tbody>\n",
       "</table>\n",
       "</div>"
      ],
      "text/plain": [
       "       scientific_name  observations\n",
       "144  Castor canadensis          5175\n",
       "707      Puma concolor          5133\n",
       "687      Procyon lotor          5076\n",
       "201      Columba livia          4959\n",
       "520   Myotis lucifugus          4641"
      ]
     },
     "execution_count": 155,
     "metadata": {},
     "output_type": "execute_result"
    }
   ],
   "source": [
    "total_observations.head()"
   ]
  },
  {
   "cell_type": "code",
   "execution_count": 146,
   "id": "0ac41905",
   "metadata": {},
   "outputs": [],
   "source": [
    "most_prevalent_animal = total_observations.iloc[0]['scientific_name']"
   ]
  },
  {
   "cell_type": "code",
   "execution_count": 147,
   "id": "f48746ac",
   "metadata": {},
   "outputs": [
    {
     "name": "stdout",
     "output_type": "stream",
     "text": [
      "The most prevalent animal is: Castor canadensis\n"
     ]
    }
   ],
   "source": [
    "print(f\"The most prevalent animal is: {most_prevalent_animal}\")"
   ]
  },
  {
   "cell_type": "code",
   "execution_count": 148,
   "id": "edd9cdce",
   "metadata": {},
   "outputs": [],
   "source": [
    "most_prevalent_animal_df = filtered_df[filtered_df['scientific_name'] == most_prevalent_animal]"
   ]
  },
  {
   "cell_type": "code",
   "execution_count": 149,
   "id": "70618ca3",
   "metadata": {},
   "outputs": [],
   "source": [
    "distribution_across_parks = most_prevalent_animal_df.groupby('park_name')['observations'].sum().reset_index()"
   ]
  },
  {
   "cell_type": "code",
   "execution_count": 150,
   "id": "ebcba29a",
   "metadata": {},
   "outputs": [
    {
     "data": {
      "text/html": [
       "<div>\n",
       "<style scoped>\n",
       "    .dataframe tbody tr th:only-of-type {\n",
       "        vertical-align: middle;\n",
       "    }\n",
       "\n",
       "    .dataframe tbody tr th {\n",
       "        vertical-align: top;\n",
       "    }\n",
       "\n",
       "    .dataframe thead th {\n",
       "        text-align: right;\n",
       "    }\n",
       "</style>\n",
       "<table border=\"1\" class=\"dataframe\">\n",
       "  <thead>\n",
       "    <tr style=\"text-align: right;\">\n",
       "      <th></th>\n",
       "      <th>park_name</th>\n",
       "      <th>observations</th>\n",
       "    </tr>\n",
       "  </thead>\n",
       "  <tbody>\n",
       "    <tr>\n",
       "      <th>0</th>\n",
       "      <td>Bryce National Park</td>\n",
       "      <td>834</td>\n",
       "    </tr>\n",
       "    <tr>\n",
       "      <th>1</th>\n",
       "      <td>Great Smoky Mountains National Park</td>\n",
       "      <td>729</td>\n",
       "    </tr>\n",
       "    <tr>\n",
       "      <th>2</th>\n",
       "      <td>Yellowstone National Park</td>\n",
       "      <td>2109</td>\n",
       "    </tr>\n",
       "    <tr>\n",
       "      <th>3</th>\n",
       "      <td>Yosemite National Park</td>\n",
       "      <td>1503</td>\n",
       "    </tr>\n",
       "  </tbody>\n",
       "</table>\n",
       "</div>"
      ],
      "text/plain": [
       "                             park_name  observations\n",
       "0                  Bryce National Park           834\n",
       "1  Great Smoky Mountains National Park           729\n",
       "2            Yellowstone National Park          2109\n",
       "3               Yosemite National Park          1503"
      ]
     },
     "execution_count": 150,
     "metadata": {},
     "output_type": "execute_result"
    }
   ],
   "source": [
    "distribution_across_parks"
   ]
  },
  {
   "cell_type": "code",
   "execution_count": 151,
   "id": "ecbed066",
   "metadata": {},
   "outputs": [
    {
     "data": {
      "image/png": "[encoded data removed]",
      "text/plain": [
       "<Figure size 1200x800 with 1 Axes>"
      ]
     },
     "metadata": {},
     "output_type": "display_data"
    }
   ],
   "source": [
    "plt.figure(figsize=(12, 8))\n",
    "sns.barplot(data=distribution_across_parks, x='park_name', y='observations')\n",
    "plt.title(f'Distribution of {most_prevalent_animal} Across Parks')\n",
    "plt.xlabel('Park Name')\n",
    "plt.ylabel('Number of Observations')\n",
    "plt.xticks(rotation=45)\n",
    "plt.show()"
   ]
  },
  {
   "cell_type": "markdown",
   "id": "dc2af87c",
   "metadata": {},
   "source": [
    "The analysis revealed that the most prevalent species is \"Castor canadensis\" and the bar plot above visualizes how \n",
    "it is distributed across different parks. The number of observations of \"Castor canadensis\" varies significantly \n",
    "between parks what corresponds with their size."
   ]
  },
  {
   "cell_type": "code",
   "execution_count": null,
   "id": "f2699af4",
   "metadata": {},
   "outputs": [],
   "source": []
  }
 ],
 "metadata": {
  "kernelspec": {
   "display_name": "Python 3 (ipykernel)",
   "language": "python",
   "name": "python3"
  },
  "language_info": {
   "codemirror_mode": {
    "name": "ipython",
    "version": 3
   },
   "file_extension": ".py",
   "mimetype": "text/x-python",
   "name": "python",
   "nbconvert_exporter": "python",
   "pygments_lexer": "ipython3",
   "version": "3.11.4"
  }
 },
 "nbformat": 4,
 "nbformat_minor": 5
}
